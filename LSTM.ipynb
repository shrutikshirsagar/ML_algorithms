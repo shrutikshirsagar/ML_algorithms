{
 "cells": [
  {
   "cell_type": "code",
   "execution_count": 1,
   "metadata": {},
   "outputs": [
    {
     "name": "stderr",
     "output_type": "stream",
     "text": [
      "Using TensorFlow backend.\n"
     ]
    }
   ],
   "source": [
    "import warnings\n",
    "warnings.filterwarnings('ignore')\n",
    "\n",
    "import keras\n",
    "from keras.models import Sequential\n",
    "from keras.layers import Dense, Dropout, Activation\n",
    "from keras.optimizers import RMSprop, SGD\n",
    "\n",
    "from keras.datasets import mnist\n",
    "import numpy as np"
   ]
  },
  {
   "cell_type": "code",
   "execution_count": null,
   "metadata": {},
   "outputs": [],
   "source": []
  },
  {
   "cell_type": "code",
   "execution_count": 2,
   "metadata": {},
   "outputs": [
    {
     "name": "stdout",
     "output_type": "stream",
     "text": [
      "(581595, 118)\n",
      "(581595,)\n",
      "(465276, 118)\n",
      "(116319, 118)\n",
      "(465276,)\n",
      "(116319,)\n"
     ]
    }
   ],
   "source": [
    "import scipy.io as spio\n",
    "\n",
    "from sklearn import preprocessing\n",
    "from sklearn.model_selection import train_test_split\n",
    "\n",
    "mat = spio.loadmat('oopen_smile2.mat', squeeze_me=True)\n",
    "\n",
    "a=mat['OpenSmile']\n",
    "\n",
    "X=a[:,0:118]\n",
    "\n",
    "X = preprocessing.scale(X)\n",
    "print(X.shape)\n",
    "Y = mat['str_idx']\n",
    "print(Y.shape)\n",
    "\n",
    "x_train, x_test, y_train, y_test = train_test_split(X, Y, test_size=0.2)\n",
    "\n",
    "print(x_train.shape)\n",
    "print(x_test.shape)\n",
    "print(y_train.shape)\n",
    "print(y_test.shape)\n"
   ]
  },
  {
   "cell_type": "code",
   "execution_count": 3,
   "metadata": {},
   "outputs": [],
   "source": [
    "\n",
    "num_classes = 2\n"
   ]
  },
  {
   "cell_type": "code",
   "execution_count": 4,
   "metadata": {},
   "outputs": [],
   "source": [
    "# convert class vectors to binary class matrices\n",
    "y_train = keras.utils.to_categorical(y_train, num_classes)\n",
    "y_test = keras.utils.to_categorical(y_test, num_classes)\n"
   ]
  },
  {
   "cell_type": "code",
   "execution_count": 5,
   "metadata": {},
   "outputs": [
    {
     "name": "stdout",
     "output_type": "stream",
     "text": [
      "(1, 118)\n",
      "(20, 118)\n",
      "118\n",
      "20\n",
      "(1, 20, 118)\n",
      "465276\n",
      "(465276, 20, 118)\n"
     ]
    }
   ],
   "source": [
    "timestep = 20\n",
    "\n",
    "tmp_train = np.reshape(x_train[0], (1, len(x_train[0])))\n",
    "print(tmp_train.shape)\n",
    "tmp_train = np.repeat(tmp_train, timestep, axis=0)\n",
    "print(tmp_train.shape)\n",
    "print(len(tmp_train[0]))\n",
    "print(len(tmp_train[:,:]))\n",
    "ab = np.reshape(tmp_train, (1, len(tmp_train[:,:]), len(tmp_train[0])))\n",
    "print(ab.shape)\n",
    "print(x_train.shape[0])\n",
    "x_train = np.repeat( ab, x_train.shape[0], axis=0)\n",
    "print(x_train.shape)"
   ]
  },
  {
   "cell_type": "code",
   "execution_count": null,
   "metadata": {},
   "outputs": [],
   "source": []
  },
  {
   "cell_type": "code",
   "execution_count": null,
   "metadata": {},
   "outputs": [],
   "source": []
  },
  {
   "cell_type": "code",
   "execution_count": null,
   "metadata": {},
   "outputs": [],
   "source": []
  },
  {
   "cell_type": "code",
   "execution_count": 6,
   "metadata": {},
   "outputs": [
    {
     "name": "stdout",
     "output_type": "stream",
     "text": [
      "(1, 118)\n",
      "(20, 118)\n",
      "118\n",
      "20\n",
      "(1, 20, 118)\n",
      "(116319, 20, 118)\n"
     ]
    }
   ],
   "source": [
    "timestep = 20\n",
    "\n",
    "tmp_test = np.reshape(x_test[0], (1, len(x_test[0])))\n",
    "print(tmp_test.shape)\n",
    "tmp_test = np.repeat(tmp_test, timestep, axis=0)\n",
    "print(tmp_test.shape)\n",
    "print(len(tmp_test[0]))\n",
    "print(len(tmp_test[:,:]))\n",
    "abc = np.reshape(tmp_test, (1, len(tmp_test[:,:]), len(tmp_test[0])))\n",
    "print(abc.shape)\n",
    "x_test = np.repeat( abc, x_test.shape[0], axis=0)\n",
    "print(x_test.shape)"
   ]
  },
  {
   "cell_type": "code",
   "execution_count": null,
   "metadata": {},
   "outputs": [],
   "source": []
  },
  {
   "cell_type": "code",
   "execution_count": null,
   "metadata": {},
   "outputs": [],
   "source": []
  },
  {
   "cell_type": "code",
   "execution_count": null,
   "metadata": {},
   "outputs": [],
   "source": []
  },
  {
   "cell_type": "code",
   "execution_count": null,
   "metadata": {},
   "outputs": [],
   "source": []
  },
  {
   "cell_type": "code",
   "execution_count": null,
   "metadata": {},
   "outputs": [],
   "source": []
  },
  {
   "cell_type": "code",
   "execution_count": 30,
   "metadata": {},
   "outputs": [],
   "source": [
    "timestep = 20\n",
    "from keras.layers import Flatten, LSTM\n",
    "model = Sequential()\n",
    "model.add(LSTM(64, input_shape=(timestep, 118), return_sequences=True))\n",
    "model.add(Dropout(0.5))\n",
    "model.add(LSTM(32))\n",
    "model.add(Dropout(0.5))\n",
    "model.add(Activation('sigmoid'))\n",
    "model.add(Dense(2))\n",
    "\n",
    "sgd = SGD(lr=0.001, decay=1e-6, momentum=0.9, nesterov=True)\n",
    "#rms = RMSprop(lr=0.001, rho=0.9, epsilon=1e-08, decay=0.0)\n",
    "\n",
    "model.compile(loss='binary_crossentropy',\n",
    "              optimizer=sgd,\n",
    "              metrics=['accuracy'])"
   ]
  },
  {
   "cell_type": "code",
   "execution_count": null,
   "metadata": {},
   "outputs": [],
   "source": []
  },
  {
   "cell_type": "code",
   "execution_count": null,
   "metadata": {},
   "outputs": [],
   "source": []
  },
  {
   "cell_type": "code",
   "execution_count": null,
   "metadata": {},
   "outputs": [],
   "source": []
  },
  {
   "cell_type": "code",
   "execution_count": 31,
   "metadata": {},
   "outputs": [
    {
     "name": "stdout",
     "output_type": "stream",
     "text": [
      "_________________________________________________________________\n",
      "Layer (type)                 Output Shape              Param #   \n",
      "=================================================================\n",
      "lstm_20 (LSTM)               (None, 20, 64)            46848     \n",
      "_________________________________________________________________\n",
      "dropout_19 (Dropout)         (None, 20, 64)            0         \n",
      "_________________________________________________________________\n",
      "lstm_21 (LSTM)               (None, 32)                12416     \n",
      "_________________________________________________________________\n",
      "dropout_20 (Dropout)         (None, 32)                0         \n",
      "_________________________________________________________________\n",
      "activation_9 (Activation)    (None, 32)                0         \n",
      "_________________________________________________________________\n",
      "dense_9 (Dense)              (None, 2)                 66        \n",
      "=================================================================\n",
      "Total params: 59,330\n",
      "Trainable params: 59,330\n",
      "Non-trainable params: 0\n",
      "_________________________________________________________________\n"
     ]
    }
   ],
   "source": [
    "model.summary()"
   ]
  },
  {
   "cell_type": "code",
   "execution_count": 32,
   "metadata": {},
   "outputs": [
    {
     "name": "stdout",
     "output_type": "stream",
     "text": [
      "Train on 372220 samples, validate on 93056 samples\n",
      "Epoch 1/100\n",
      "372220/372220 [==============================] - 224s 601us/step - loss: 8.0590 - acc: 0.0064 - val_loss: 8.0590 - val_acc: 0.0000e+00\n",
      "Epoch 2/100\n",
      "372220/372220 [==============================] - 223s 598us/step - loss: 8.0590 - acc: 0.0066 - val_loss: 8.0590 - val_acc: 0.0000e+00\n",
      "Epoch 3/100\n",
      "372220/372220 [==============================] - 205s 550us/step - loss: 8.0590 - acc: 0.0064 - val_loss: 8.0590 - val_acc: 0.0000e+00\n",
      "Epoch 4/100\n",
      "372220/372220 [==============================] - 205s 550us/step - loss: 8.0590 - acc: 0.0063 - val_loss: 8.0590 - val_acc: 0.0000e+00\n",
      "Epoch 5/100\n",
      "372220/372220 [==============================] - 204s 549us/step - loss: 8.0590 - acc: 0.0064 - val_loss: 8.0590 - val_acc: 0.0000e+00\n",
      "Epoch 6/100\n",
      "372220/372220 [==============================] - 204s 548us/step - loss: 8.0590 - acc: 0.0064 - val_loss: 8.0590 - val_acc: 0.0000e+00\n",
      "Epoch 7/100\n",
      "372220/372220 [==============================] - 204s 548us/step - loss: 8.0590 - acc: 0.0066 - val_loss: 8.0590 - val_acc: 0.0000e+00\n",
      "Epoch 8/100\n",
      "372220/372220 [==============================] - 205s 550us/step - loss: 8.0590 - acc: 0.0065 - val_loss: 8.0590 - val_acc: 0.0000e+00\n",
      "Epoch 9/100\n",
      "372220/372220 [==============================] - 204s 549us/step - loss: 8.0590 - acc: 0.0064 - val_loss: 8.0590 - val_acc: 0.0000e+00\n",
      "Epoch 10/100\n",
      "372220/372220 [==============================] - 204s 548us/step - loss: 8.0590 - acc: 0.0064 - val_loss: 8.0590 - val_acc: 0.0000e+00\n",
      "Epoch 11/100\n",
      "372220/372220 [==============================] - 206s 553us/step - loss: 8.0590 - acc: 0.0064 - val_loss: 8.0590 - val_acc: 0.0000e+00\n"
     ]
    }
   ],
   "source": [
    "from keras.callbacks import EarlyStopping\n",
    "early_stopping = EarlyStopping(monitor='val_loss', patience=10)\n",
    "hist = model.fit(x_train, y_train, validation_split=0.2, verbose=1, nb_epoch=100, batch_size=32, shuffle=False, callbacks=[early_stopping])"
   ]
  },
  {
   "cell_type": "code",
   "execution_count": 33,
   "metadata": {},
   "outputs": [
    {
     "name": "stdout",
     "output_type": "stream",
     "text": [
      "Test loss: 8.05904769897461\n",
      "Test accuracy: 0.0\n"
     ]
    }
   ],
   "source": [
    "score = model.evaluate(x_test, y_test, verbose=0)\n",
    "print('Test loss:', score[0])\n",
    "print('Test accuracy:', score[1])"
   ]
  },
  {
   "cell_type": "code",
   "execution_count": null,
   "metadata": {},
   "outputs": [],
   "source": []
  },
  {
   "cell_type": "code",
   "execution_count": null,
   "metadata": {},
   "outputs": [],
   "source": []
  },
  {
   "cell_type": "code",
   "execution_count": null,
   "metadata": {},
   "outputs": [],
   "source": []
  }
 ],
 "metadata": {
  "kernelspec": {
   "display_name": "Python 3",
   "language": "python",
   "name": "python3"
  },
  "language_info": {
   "codemirror_mode": {
    "name": "ipython",
    "version": 3
   },
   "file_extension": ".py",
   "mimetype": "text/x-python",
   "name": "python",
   "nbconvert_exporter": "python",
   "pygments_lexer": "ipython3",
   "version": "3.7.3"
  }
 },
 "nbformat": 4,
 "nbformat_minor": 2
}
